{
 "cells": [
  {
   "cell_type": "markdown",
   "id": "de4af241",
   "metadata": {},
   "source": [
    "# Intro\n",
    "## General\n",
    "Machine learning allows the user to feed a computer algorithm an immense amount of data and have the computer analyze and make data-driven recommendations and decisions based on only the input data. \n",
    "In most of the situations we want to have a machine learning system to make **predictions**, so we have several categories of machine learning tasks depending on the type of prediction needed: **Classification, Regression, Clustering, Generation**, etc.\n",
    "\n",
    "**Classification** is the task whose goal is the prediction of the label of the class to which the input belongs (e.g., Classification of images in two classes: cats and dogs).\n",
    "**Regression** is the task whose goal is the prediction of numerical value(s) related to the input (e.g., House rent prediction, Estimated time of arrival ).\n",
    "**Generation** is the task whose goal is the creation of something new related to the input (e.g., Text translation, Audio beat generation, Image denoising ). **Clustering** is the task of grouping a set of objects in such a way that objects in the same group (called a **cluster**) are more similar (in some sense) to each other than to those in other **clusters** (e.g., Clients clutering).\n",
    "\n",
    "In machine learning, there are learning paradigms that relate to one aspect of the dataset: **the presence of the label to be predicted**. **Supervised Learning** is the paradigm of learning that is applied when the dataset has the label variables to be predicted, known as ` y variables`. **Unsupervised Learning** is the paradigm of learning that is applied when the dataset has not the label variables to be predicted. **Self-supervised Learning** is the paradigm of learning that is applied when part of the X dataset is considere as the label to be predicted (e.g., the Dataset is made of texts and the model try to predict the next word of each sentence).\n",
    "\n",
    "## Notebook overview\n",
    "This notebook contains the step by step approach undertaken to build a model that more accurately predicts the unit sales for thousands of items sold at different Favorita stores; a large Ecuadorian-based grocery retailer."
   ]
  },
  {
   "cell_type": "markdown",
   "id": "c656cb35",
   "metadata": {},
   "source": [
    "# Setup"
   ]
  },
  {
   "cell_type": "markdown",
   "id": "55260f8b",
   "metadata": {},
   "source": [
    "## Installation\n",
    "Here is the section to install all the packages/libraries that will be needed to tackle the challlenge."
   ]
  },
  {
   "cell_type": "code",
   "execution_count": 1,
   "id": "7bddb44b",
   "metadata": {},
   "outputs": [],
   "source": [
    "# pip install pandas\n",
    "# pip install numpy \n",
    "# pip install matplotlib\n",
    "# pip install seaborn \n",
    "# pip install forex_python\n",
    "# pip install babel \n",
    "# pip install seaborn\n",
    "# pip install pandas-profiling "
   ]
  },
  {
   "cell_type": "markdown",
   "id": "48d816a2",
   "metadata": {},
   "source": [
    "## Importation\n",
    "Here is the section to import all the packages/libraries that will be used through this notebook."
   ]
  },
  {
   "cell_type": "code",
   "execution_count": 2,
   "id": "6da02dd0",
   "metadata": {},
   "outputs": [],
   "source": [
    "# Data handling\n",
    "import pandas as pd\n",
    "import numpy as np\n",
    "from statistics import mean\n",
    "from forex_python.converter import CurrencyRates\n",
    "from babel.numbers import format_currency\n",
    "import datetime as dt\n",
    "\n",
    "# Statistics\n",
    "from scipy import stats\n",
    "from scipy.stats import shapiro, trim_mean, mstats, mode\n",
    "from scipy.stats import ttest_ind\n",
    "from scipy.stats import skew\n",
    "\n",
    "\n",
    "# Vizualisation (Matplotlib, Plotly, Seaborn, etc. )\n",
    "%matplotlib inline\n",
    "import matplotlib as mpl\n",
    "import matplotlib.pyplot as plt\n",
    "import seaborn as sns\n",
    "import plotly\n",
    "from plotly.offline import plot\n",
    "from IPython.display import display\n",
    "import plotly.express as px\n",
    "import plotly.graph_objects as go\n",
    "import sweetviz as sv\n",
    "\n",
    "# balance data\n",
    "from imblearn import under_sampling, over_sampling\n",
    "from imblearn.over_sampling import SMOTE, RandomOverSampler\n",
    "from imblearn.under_sampling import RandomUnderSampler\n",
    "\n",
    "# Machine learning libraries and metrics\n",
    "from sklearn.preprocessing import OneHotEncoder\n",
    "from sklearn.model_selection import train_test_split\n",
    "from sklearn.preprocessing import StandardScaler\n",
    "from sklearn.ensemble import RandomForestClassifier\n",
    "from sklearn.metrics import classification_report\n",
    "from sklearn.metrics import accuracy_score\n",
    "from sklearn.metrics import precision_score\n",
    "from sklearn.metrics import recall_score\n",
    "from sklearn.metrics import f1_score\n",
    "from sklearn.linear_model import LogisticRegression\n",
    "from sklearn.ensemble import GradientBoostingClassifier\n",
    "from scipy.stats import chi2_contingency\n",
    "\n",
    "# Feature Processing (Scikit-learn processing, etc. )\n",
    "from sklearn.preprocessing import StandardScaler, RobustScaler, OneHotEncoder, LabelEncoder, Binarizer\n",
    "from sklearn.model_selection import GridSearchCV, StratifiedKFold\n",
    "from sklearn.metrics import f1_score,roc_curve, auc,roc_auc_score\n",
    "from sklearn.preprocessing import FunctionTransformer\n",
    "from sklearn.compose import ColumnTransformer\n",
    "from sklearn.compose import TransformedTargetRegressor\n",
    "import joblib\n",
    "from sklearn.pipeline import Pipeline\n",
    "import pickle\n",
    "# Other packages\n",
    "from statsmodels.tsa.seasonal import seasonal_decompose\n",
    "import os\n",
    "import warnings\n",
    "warnings.filterwarnings('ignore')\n",
    "import patoolib"
   ]
  },
  {
   "cell_type": "markdown",
   "id": "ec4d655b",
   "metadata": {},
   "source": [
    "# Data Loading\n",
    "Here is the section to load the datasets (train, eval, test) and the additional files"
   ]
  },
  {
   "cell_type": "code",
   "execution_count": 3,
   "id": "731284da",
   "metadata": {},
   "outputs": [],
   "source": [
    "holidaysurl=\"https://raw.githubusercontent.com/Gilbert-B/Regression-Project/main/data/holidays_events.csv\"\n",
    "oilurl=\"https://raw.githubusercontent.com/Gilbert-B/Regression-Project/main/data/oil.csv\"\n",
    "storesurl=\"https://raw.githubusercontent.com/Gilbert-B/Regression-Project/main/data/stores.csv\"\n",
    "testurl=\"https://raw.githubusercontent.com/Gilbert-B/Regression-Project/main/data/test.csv\"\n",
    "trainurl=\"https://github.com/Gilbert-B/Regression-Project/releases/download/data/train.csv\"\n",
    "transactionsurl=\"https://raw.githubusercontent.com/Gilbert-B/Regression-Project/main/data/transactions.csv\""
   ]
  },
  {
   "cell_type": "code",
   "execution_count": 4,
   "id": "d66fc26e",
   "metadata": {},
   "outputs": [],
   "source": [
    "test_df = pd.read_csv(testurl,error_bad_lines=False)\n",
    "Train_df= pd.read_csv(trainurl,error_bad_lines=False)\n",
    "Holiday_df= pd.read_csv(holidaysurl,error_bad_lines=False)\n",
    "Transaction_df= pd.read_csv(transactionsurl,error_bad_lines=False)\n",
    "stores_df= pd.read_csv(storesurl,error_bad_lines=False)\n",
    "oil_df= pd.read_csv(oilurl,error_bad_lines=False)"
   ]
  },
  {
   "cell_type": "markdown",
   "id": "4bb2279e",
   "metadata": {},
   "source": [
    "# Exploratory Data Analysis: EDA\n",
    "\n",
    "Details of the data cleaing process has been provided in the EDA notebook which can be found here:\n",
    "https://github.com/Gilbert-B/Regression-Project/blob/main/Notebook/Regression-Project_EDA.ipynb"
   ]
  },
  {
   "cell_type": "markdown",
   "id": "52063c13",
   "metadata": {},
   "source": [
    "# Feature Processing & Engineering"
   ]
  },
  {
   "cell_type": "markdown",
   "id": "fb1de5d8",
   "metadata": {},
   "source": [
    "## Drop Duplicates"
   ]
  },
  {
   "cell_type": "code",
   "execution_count": 5,
   "id": "0ea14d9a",
   "metadata": {},
   "outputs": [
    {
     "data": {
      "text/plain": [
       "False"
      ]
     },
     "execution_count": 5,
     "metadata": {},
     "output_type": "execute_result"
    }
   ],
   "source": [
    "# Find any duplicates in the columns \n",
    "Train_df.duplicated().any(), \n",
    "stores_df.duplicated().any(), \n",
    "oil_df.duplicated().any(),  \n",
    "test_df.duplicated().any(),  \n",
    "Holiday_df.duplicated().any() "
   ]
  },
  {
   "cell_type": "code",
   "execution_count": 6,
   "id": "bd5ddfba",
   "metadata": {},
   "outputs": [
    {
     "data": {
      "text/plain": [
       "date           0\n",
       "dcoilwtico    43\n",
       "dtype: int64"
      ]
     },
     "execution_count": 6,
     "metadata": {},
     "output_type": "execute_result"
    }
   ],
   "source": [
    "#checking missing values\n",
    "null_values=pd.isnull(oil_df).sum()\n",
    "null_values"
   ]
  },
  {
   "cell_type": "markdown",
   "id": "da45b376",
   "metadata": {},
   "source": [
    "Oil Data has 43 missing values "
   ]
  },
  {
   "cell_type": "markdown",
   "id": "3b9feb59",
   "metadata": {},
   "source": [
    "## Impute Missing Values"
   ]
  },
  {
   "cell_type": "code",
   "execution_count": 7,
   "id": "e3bb283f",
   "metadata": {},
   "outputs": [],
   "source": [
    "#Replacing missing values in oil data with the value before that missing data\n",
    "oil_df = oil_df.bfill()"
   ]
  },
  {
   "cell_type": "code",
   "execution_count": 8,
   "id": "ea4d3331",
   "metadata": {},
   "outputs": [
    {
     "data": {
      "text/plain": [
       "date          0\n",
       "dcoilwtico    0\n",
       "dtype: int64"
      ]
     },
     "execution_count": 8,
     "metadata": {},
     "output_type": "execute_result"
    }
   ],
   "source": [
    "#confirming that missing values have been imputed\n",
    "null_values=pd.isnull(oil_df).sum()\n",
    "null_values"
   ]
  },
  {
   "cell_type": "markdown",
   "id": "b6759925",
   "metadata": {},
   "source": [
    "## New Features Creation"
   ]
  },
  {
   "cell_type": "code",
   "execution_count": 9,
   "id": "e1f343f2",
   "metadata": {},
   "outputs": [],
   "source": [
    "#create a new column known as day which is the same as the date column\n",
    "#This is a helpful trick to prevent continuous re-indexing \n",
    "\n",
    "Train_df['day'] = Train_df['date']\n",
    "test_df['day'] = test_df['date']"
   ]
  },
  {
   "cell_type": "code",
   "execution_count": 10,
   "id": "3d78a11d",
   "metadata": {},
   "outputs": [
    {
     "data": {
      "text/html": [
       "<div>\n",
       "<style scoped>\n",
       "    .dataframe tbody tr th:only-of-type {\n",
       "        vertical-align: middle;\n",
       "    }\n",
       "\n",
       "    .dataframe tbody tr th {\n",
       "        vertical-align: top;\n",
       "    }\n",
       "\n",
       "    .dataframe thead th {\n",
       "        text-align: right;\n",
       "    }\n",
       "</style>\n",
       "<table border=\"1\" class=\"dataframe\">\n",
       "  <thead>\n",
       "    <tr style=\"text-align: right;\">\n",
       "      <th></th>\n",
       "      <th>id</th>\n",
       "      <th>date</th>\n",
       "      <th>store_nbr</th>\n",
       "      <th>family</th>\n",
       "      <th>sales</th>\n",
       "      <th>onpromotion</th>\n",
       "      <th>day</th>\n",
       "    </tr>\n",
       "  </thead>\n",
       "  <tbody>\n",
       "    <tr>\n",
       "      <th>0</th>\n",
       "      <td>0</td>\n",
       "      <td>2013-01-01</td>\n",
       "      <td>1</td>\n",
       "      <td>AUTOMOTIVE</td>\n",
       "      <td>0.0</td>\n",
       "      <td>0</td>\n",
       "      <td>2013-01-01</td>\n",
       "    </tr>\n",
       "    <tr>\n",
       "      <th>1</th>\n",
       "      <td>1</td>\n",
       "      <td>2013-01-01</td>\n",
       "      <td>1</td>\n",
       "      <td>BABY CARE</td>\n",
       "      <td>0.0</td>\n",
       "      <td>0</td>\n",
       "      <td>2013-01-01</td>\n",
       "    </tr>\n",
       "    <tr>\n",
       "      <th>2</th>\n",
       "      <td>2</td>\n",
       "      <td>2013-01-01</td>\n",
       "      <td>1</td>\n",
       "      <td>BEAUTY</td>\n",
       "      <td>0.0</td>\n",
       "      <td>0</td>\n",
       "      <td>2013-01-01</td>\n",
       "    </tr>\n",
       "    <tr>\n",
       "      <th>3</th>\n",
       "      <td>3</td>\n",
       "      <td>2013-01-01</td>\n",
       "      <td>1</td>\n",
       "      <td>BEVERAGES</td>\n",
       "      <td>0.0</td>\n",
       "      <td>0</td>\n",
       "      <td>2013-01-01</td>\n",
       "    </tr>\n",
       "    <tr>\n",
       "      <th>4</th>\n",
       "      <td>4</td>\n",
       "      <td>2013-01-01</td>\n",
       "      <td>1</td>\n",
       "      <td>BOOKS</td>\n",
       "      <td>0.0</td>\n",
       "      <td>0</td>\n",
       "      <td>2013-01-01</td>\n",
       "    </tr>\n",
       "  </tbody>\n",
       "</table>\n",
       "</div>"
      ],
      "text/plain": [
       "   id        date  store_nbr      family  sales  onpromotion         day\n",
       "0   0  2013-01-01          1  AUTOMOTIVE    0.0            0  2013-01-01\n",
       "1   1  2013-01-01          1   BABY CARE    0.0            0  2013-01-01\n",
       "2   2  2013-01-01          1      BEAUTY    0.0            0  2013-01-01\n",
       "3   3  2013-01-01          1   BEVERAGES    0.0            0  2013-01-01\n",
       "4   4  2013-01-01          1       BOOKS    0.0            0  2013-01-01"
      ]
     },
     "execution_count": 10,
     "metadata": {},
     "output_type": "execute_result"
    }
   ],
   "source": [
    "Train_df.head()"
   ]
  },
  {
   "cell_type": "code",
   "execution_count": 11,
   "id": "42c1cd63",
   "metadata": {},
   "outputs": [
    {
     "data": {
      "text/html": [
       "<div>\n",
       "<style scoped>\n",
       "    .dataframe tbody tr th:only-of-type {\n",
       "        vertical-align: middle;\n",
       "    }\n",
       "\n",
       "    .dataframe tbody tr th {\n",
       "        vertical-align: top;\n",
       "    }\n",
       "\n",
       "    .dataframe thead th {\n",
       "        text-align: right;\n",
       "    }\n",
       "</style>\n",
       "<table border=\"1\" class=\"dataframe\">\n",
       "  <thead>\n",
       "    <tr style=\"text-align: right;\">\n",
       "      <th></th>\n",
       "      <th>date</th>\n",
       "      <th>store_nbr</th>\n",
       "      <th>transactions</th>\n",
       "    </tr>\n",
       "  </thead>\n",
       "  <tbody>\n",
       "    <tr>\n",
       "      <th>83483</th>\n",
       "      <td>2017-08-15</td>\n",
       "      <td>50</td>\n",
       "      <td>2804</td>\n",
       "    </tr>\n",
       "    <tr>\n",
       "      <th>83484</th>\n",
       "      <td>2017-08-15</td>\n",
       "      <td>51</td>\n",
       "      <td>1573</td>\n",
       "    </tr>\n",
       "    <tr>\n",
       "      <th>83485</th>\n",
       "      <td>2017-08-15</td>\n",
       "      <td>52</td>\n",
       "      <td>2255</td>\n",
       "    </tr>\n",
       "    <tr>\n",
       "      <th>83486</th>\n",
       "      <td>2017-08-15</td>\n",
       "      <td>53</td>\n",
       "      <td>932</td>\n",
       "    </tr>\n",
       "    <tr>\n",
       "      <th>83487</th>\n",
       "      <td>2017-08-15</td>\n",
       "      <td>54</td>\n",
       "      <td>802</td>\n",
       "    </tr>\n",
       "  </tbody>\n",
       "</table>\n",
       "</div>"
      ],
      "text/plain": [
       "             date  store_nbr  transactions\n",
       "83483  2017-08-15         50          2804\n",
       "83484  2017-08-15         51          1573\n",
       "83485  2017-08-15         52          2255\n",
       "83486  2017-08-15         53           932\n",
       "83487  2017-08-15         54           802"
      ]
     },
     "execution_count": 11,
     "metadata": {},
     "output_type": "execute_result"
    }
   ],
   "source": [
    "#Check the last 4 rows of the Transaction dataset\n",
    "\n",
    "Transaction_df.tail()"
   ]
  },
  {
   "cell_type": "code",
   "execution_count": 12,
   "id": "02898999",
   "metadata": {},
   "outputs": [
    {
     "data": {
      "text/html": [
       "<div>\n",
       "<style scoped>\n",
       "    .dataframe tbody tr th:only-of-type {\n",
       "        vertical-align: middle;\n",
       "    }\n",
       "\n",
       "    .dataframe tbody tr th {\n",
       "        vertical-align: top;\n",
       "    }\n",
       "\n",
       "    .dataframe thead th {\n",
       "        text-align: right;\n",
       "    }\n",
       "</style>\n",
       "<table border=\"1\" class=\"dataframe\">\n",
       "  <thead>\n",
       "    <tr style=\"text-align: right;\">\n",
       "      <th></th>\n",
       "      <th>id</th>\n",
       "      <th>date</th>\n",
       "      <th>store_nbr</th>\n",
       "      <th>family</th>\n",
       "      <th>onpromotion</th>\n",
       "      <th>day</th>\n",
       "    </tr>\n",
       "  </thead>\n",
       "  <tbody>\n",
       "    <tr>\n",
       "      <th>28507</th>\n",
       "      <td>3029395</td>\n",
       "      <td>2017-08-31</td>\n",
       "      <td>9</td>\n",
       "      <td>POULTRY</td>\n",
       "      <td>1</td>\n",
       "      <td>2017-08-31</td>\n",
       "    </tr>\n",
       "    <tr>\n",
       "      <th>28508</th>\n",
       "      <td>3029396</td>\n",
       "      <td>2017-08-31</td>\n",
       "      <td>9</td>\n",
       "      <td>PREPARED FOODS</td>\n",
       "      <td>0</td>\n",
       "      <td>2017-08-31</td>\n",
       "    </tr>\n",
       "    <tr>\n",
       "      <th>28509</th>\n",
       "      <td>3029397</td>\n",
       "      <td>2017-08-31</td>\n",
       "      <td>9</td>\n",
       "      <td>PRODUCE</td>\n",
       "      <td>1</td>\n",
       "      <td>2017-08-31</td>\n",
       "    </tr>\n",
       "    <tr>\n",
       "      <th>28510</th>\n",
       "      <td>3029398</td>\n",
       "      <td>2017-08-31</td>\n",
       "      <td>9</td>\n",
       "      <td>SCHOOL AND OFFICE SUPPLIES</td>\n",
       "      <td>9</td>\n",
       "      <td>2017-08-31</td>\n",
       "    </tr>\n",
       "    <tr>\n",
       "      <th>28511</th>\n",
       "      <td>3029399</td>\n",
       "      <td>2017-08-31</td>\n",
       "      <td>9</td>\n",
       "      <td>SEAFOOD</td>\n",
       "      <td>0</td>\n",
       "      <td>2017-08-31</td>\n",
       "    </tr>\n",
       "  </tbody>\n",
       "</table>\n",
       "</div>"
      ],
      "text/plain": [
       "            id        date  store_nbr                      family  \\\n",
       "28507  3029395  2017-08-31          9                     POULTRY   \n",
       "28508  3029396  2017-08-31          9              PREPARED FOODS   \n",
       "28509  3029397  2017-08-31          9                     PRODUCE   \n",
       "28510  3029398  2017-08-31          9  SCHOOL AND OFFICE SUPPLIES   \n",
       "28511  3029399  2017-08-31          9                     SEAFOOD   \n",
       "\n",
       "       onpromotion         day  \n",
       "28507            1  2017-08-31  \n",
       "28508            0  2017-08-31  \n",
       "28509            1  2017-08-31  \n",
       "28510            9  2017-08-31  \n",
       "28511            0  2017-08-31  "
      ]
     },
     "execution_count": 12,
     "metadata": {},
     "output_type": "execute_result"
    }
   ],
   "source": [
    "#Check the last 4 rows of the test dataset\n",
    "test_df.tail()"
   ]
  },
  {
   "cell_type": "code",
   "execution_count": 13,
   "id": "98507732",
   "metadata": {},
   "outputs": [],
   "source": [
    "#Convert date column to datetime attribute for each dataset with date column \n",
    "\n",
    "Train_df[\"date\"] = pd.to_datetime(Train_df[\"date\"], format='%Y-%m-%d')\n",
    "Transaction_df[\"date\"] = pd.to_datetime(Transaction_df[\"date\"], format='%Y-%m-%d')\n",
    "oil_df[\"date\"] = pd.to_datetime(oil_df[\"date\"], format='%Y-%m-%d')\n",
    "Holiday_df[\"date\"] = pd.to_datetime(Holiday_df[\"date\"], format='%Y-%m-%d')\n",
    "\n",
    "test_df[\"date\"] = pd.to_datetime(test_df[\"date\"], format='%Y-%m-%d')"
   ]
  },
  {
   "cell_type": "code",
   "execution_count": 14,
   "id": "03f3f898",
   "metadata": {},
   "outputs": [],
   "source": [
    "#Merge all the dataset \n",
    "#Use left-join to main data consistency \n",
    "\n",
    "merged_df = pd.merge(Train_df, stores_df, on='store_nbr', how='left')\n",
    "merged_df = pd.merge(merged_df,Transaction_df, on=['store_nbr','date'], how='left')\n",
    "merged_df = pd.merge(merged_df,oil_df, on=['date'], how='left')\n",
    "merged_df = pd.merge(merged_df,Holiday_df, on=['date'], how='left')\n"
   ]
  },
  {
   "cell_type": "code",
   "execution_count": 15,
   "id": "411fc807",
   "metadata": {},
   "outputs": [],
   "source": [
    "# merge stores_df to test_df on 'store_nbr'\n",
    "merged_test_df = pd.merge(test_df, stores_df, on='store_nbr')"
   ]
  },
  {
   "cell_type": "markdown",
   "id": "f6e7d88d",
   "metadata": {},
   "source": [
    "The assumption for using the mean transaction to impute missing values is that the missing values are missing at random (MAR) or missing completely at random (MCAR), meaning that there is no systematic reason for the missing values.\n",
    "\n",
    "In this case, since the missing values are in the test set and not the training set, it is assumed that the missing values are missing at random and that the mean transaction is a reasonable estimate for the missing values."
   ]
  },
  {
   "cell_type": "code",
   "execution_count": 16,
   "id": "8e64877e",
   "metadata": {},
   "outputs": [],
   "source": [
    "# Calculate the mean for the transaction column\n",
    "mean_transaction = Transaction_df['transactions'].mean()\n",
    "\n",
    "# Add the missing feature with all zeros\n",
    "merged_test_df['transactions'] = mean_transaction"
   ]
  },
  {
   "cell_type": "code",
   "execution_count": 17,
   "id": "92051737",
   "metadata": {},
   "outputs": [],
   "source": [
    "#dcoilwtico\n",
    "\n",
    "# Calculate the mean for dcoilwtico column\n",
    "mean_dcoilwtico = oil_df['dcoilwtico'].mean()\n",
    "\n",
    "# Add the missing feature with all zeros\n",
    "merged_test_df['dcoilwtico'] = mean_dcoilwtico"
   ]
  },
  {
   "cell_type": "code",
   "execution_count": 18,
   "id": "cfa7102c",
   "metadata": {},
   "outputs": [
    {
     "data": {
      "text/html": [
       "<div>\n",
       "<style scoped>\n",
       "    .dataframe tbody tr th:only-of-type {\n",
       "        vertical-align: middle;\n",
       "    }\n",
       "\n",
       "    .dataframe tbody tr th {\n",
       "        vertical-align: top;\n",
       "    }\n",
       "\n",
       "    .dataframe thead th {\n",
       "        text-align: right;\n",
       "    }\n",
       "</style>\n",
       "<table border=\"1\" class=\"dataframe\">\n",
       "  <thead>\n",
       "    <tr style=\"text-align: right;\">\n",
       "      <th></th>\n",
       "      <th>id</th>\n",
       "      <th>date</th>\n",
       "      <th>store_nbr</th>\n",
       "      <th>family</th>\n",
       "      <th>onpromotion</th>\n",
       "      <th>day</th>\n",
       "      <th>city</th>\n",
       "      <th>state</th>\n",
       "      <th>type</th>\n",
       "      <th>cluster</th>\n",
       "      <th>transactions</th>\n",
       "      <th>dcoilwtico</th>\n",
       "    </tr>\n",
       "  </thead>\n",
       "  <tbody>\n",
       "    <tr>\n",
       "      <th>0</th>\n",
       "      <td>3000888</td>\n",
       "      <td>2017-08-16</td>\n",
       "      <td>1</td>\n",
       "      <td>AUTOMOTIVE</td>\n",
       "      <td>0</td>\n",
       "      <td>2017-08-16</td>\n",
       "      <td>Quito</td>\n",
       "      <td>Pichincha</td>\n",
       "      <td>D</td>\n",
       "      <td>13</td>\n",
       "      <td>1694.602158</td>\n",
       "      <td>67.673325</td>\n",
       "    </tr>\n",
       "    <tr>\n",
       "      <th>1</th>\n",
       "      <td>3000889</td>\n",
       "      <td>2017-08-16</td>\n",
       "      <td>1</td>\n",
       "      <td>BABY CARE</td>\n",
       "      <td>0</td>\n",
       "      <td>2017-08-16</td>\n",
       "      <td>Quito</td>\n",
       "      <td>Pichincha</td>\n",
       "      <td>D</td>\n",
       "      <td>13</td>\n",
       "      <td>1694.602158</td>\n",
       "      <td>67.673325</td>\n",
       "    </tr>\n",
       "    <tr>\n",
       "      <th>2</th>\n",
       "      <td>3000890</td>\n",
       "      <td>2017-08-16</td>\n",
       "      <td>1</td>\n",
       "      <td>BEAUTY</td>\n",
       "      <td>2</td>\n",
       "      <td>2017-08-16</td>\n",
       "      <td>Quito</td>\n",
       "      <td>Pichincha</td>\n",
       "      <td>D</td>\n",
       "      <td>13</td>\n",
       "      <td>1694.602158</td>\n",
       "      <td>67.673325</td>\n",
       "    </tr>\n",
       "    <tr>\n",
       "      <th>3</th>\n",
       "      <td>3000891</td>\n",
       "      <td>2017-08-16</td>\n",
       "      <td>1</td>\n",
       "      <td>BEVERAGES</td>\n",
       "      <td>20</td>\n",
       "      <td>2017-08-16</td>\n",
       "      <td>Quito</td>\n",
       "      <td>Pichincha</td>\n",
       "      <td>D</td>\n",
       "      <td>13</td>\n",
       "      <td>1694.602158</td>\n",
       "      <td>67.673325</td>\n",
       "    </tr>\n",
       "    <tr>\n",
       "      <th>4</th>\n",
       "      <td>3000892</td>\n",
       "      <td>2017-08-16</td>\n",
       "      <td>1</td>\n",
       "      <td>BOOKS</td>\n",
       "      <td>0</td>\n",
       "      <td>2017-08-16</td>\n",
       "      <td>Quito</td>\n",
       "      <td>Pichincha</td>\n",
       "      <td>D</td>\n",
       "      <td>13</td>\n",
       "      <td>1694.602158</td>\n",
       "      <td>67.673325</td>\n",
       "    </tr>\n",
       "  </tbody>\n",
       "</table>\n",
       "</div>"
      ],
      "text/plain": [
       "        id       date  store_nbr      family  onpromotion         day   city  \\\n",
       "0  3000888 2017-08-16          1  AUTOMOTIVE            0  2017-08-16  Quito   \n",
       "1  3000889 2017-08-16          1   BABY CARE            0  2017-08-16  Quito   \n",
       "2  3000890 2017-08-16          1      BEAUTY            2  2017-08-16  Quito   \n",
       "3  3000891 2017-08-16          1   BEVERAGES           20  2017-08-16  Quito   \n",
       "4  3000892 2017-08-16          1       BOOKS            0  2017-08-16  Quito   \n",
       "\n",
       "       state type  cluster  transactions  dcoilwtico  \n",
       "0  Pichincha    D       13   1694.602158   67.673325  \n",
       "1  Pichincha    D       13   1694.602158   67.673325  \n",
       "2  Pichincha    D       13   1694.602158   67.673325  \n",
       "3  Pichincha    D       13   1694.602158   67.673325  \n",
       "4  Pichincha    D       13   1694.602158   67.673325  "
      ]
     },
     "execution_count": 18,
     "metadata": {},
     "output_type": "execute_result"
    }
   ],
   "source": [
    "merged_test_df.head(5)"
   ]
  },
  {
   "cell_type": "code",
   "execution_count": 19,
   "id": "fe04843a",
   "metadata": {},
   "outputs": [],
   "source": [
    "#Drop the ID attribute. It doesnt contribute to any intelligence and may create bias. \n",
    "\n",
    "merged_df = merged_df.drop(['id'], axis=1)\n",
    "\n",
    "merged_test_df = merged_test_df.drop(['id'], axis=1)"
   ]
  },
  {
   "cell_type": "markdown",
   "id": "a12fb278",
   "metadata": {},
   "source": [
    "### Check and Impute Missing Values"
   ]
  },
  {
   "cell_type": "code",
   "execution_count": 20,
   "id": "c49ab227",
   "metadata": {},
   "outputs": [
    {
     "data": {
      "text/plain": [
       "date            0\n",
       "store_nbr       0\n",
       "family          0\n",
       "onpromotion     0\n",
       "day             0\n",
       "city            0\n",
       "state           0\n",
       "type            0\n",
       "cluster         0\n",
       "transactions    0\n",
       "dcoilwtico      0\n",
       "dtype: int64"
      ]
     },
     "execution_count": 20,
     "metadata": {},
     "output_type": "execute_result"
    }
   ],
   "source": [
    "#Check for missing values after the merge \n",
    "merged_test_df.isnull().sum()"
   ]
  },
  {
   "cell_type": "code",
   "execution_count": 21,
   "id": "83990205",
   "metadata": {},
   "outputs": [
    {
     "data": {
      "text/plain": [
       "date                  0\n",
       "store_nbr             0\n",
       "family                0\n",
       "sales                 0\n",
       "onpromotion           0\n",
       "day                   0\n",
       "city                  0\n",
       "state                 0\n",
       "type_x                0\n",
       "cluster               0\n",
       "transactions     249117\n",
       "dcoilwtico       878526\n",
       "type_y          2551824\n",
       "locale          2551824\n",
       "locale_name     2551824\n",
       "description     2551824\n",
       "transferred     2551824\n",
       "dtype: int64"
      ]
     },
     "execution_count": 21,
     "metadata": {},
     "output_type": "execute_result"
    }
   ],
   "source": [
    "#Check for missing values after the merge \n",
    "merged_df.isnull().sum()"
   ]
  },
  {
   "cell_type": "code",
   "execution_count": 22,
   "id": "4caa3af5",
   "metadata": {},
   "outputs": [],
   "source": [
    "#Dealing with missing values \n",
    "\n",
    "#Filling the missing data using the Backfill method\n",
    "merged_df[\"transactions\"].fillna(method='bfill', inplace=True)\n",
    "\n",
    "merged_df[\"dcoilwtico\"].fillna(method='bfill', inplace=True)"
   ]
  },
  {
   "cell_type": "code",
   "execution_count": 23,
   "id": "7464df3f",
   "metadata": {},
   "outputs": [],
   "source": [
    "# Find the mode of the 'type_y' column\n",
    "mode = merged_df['type_y'].mode()[0]\n",
    "\n",
    "# Replace missing values in the 'type_y' column with the mode\n",
    "merged_df['type_y'].fillna(mode, inplace=True)"
   ]
  },
  {
   "cell_type": "code",
   "execution_count": 24,
   "id": "0ec9987c",
   "metadata": {},
   "outputs": [],
   "source": [
    "# Find the mode of the 'locale' column\n",
    "mode = merged_df['locale'].mode()[0]\n",
    "\n",
    "# Replace missing values in the 'locale' column with the mode\n",
    "merged_df['locale'].fillna(mode, inplace=True)"
   ]
  },
  {
   "cell_type": "code",
   "execution_count": 25,
   "id": "a553fb70",
   "metadata": {},
   "outputs": [],
   "source": [
    "# Find the mode of the 'description' column\n",
    "mode = merged_df['description'].mode()[0]\n",
    "\n",
    "# Replace missing values in the 'description' column with the mode\n",
    "merged_df['description'].fillna(mode, inplace=True)"
   ]
  },
  {
   "cell_type": "code",
   "execution_count": 26,
   "id": "c401d391",
   "metadata": {},
   "outputs": [],
   "source": [
    "# Find the mode of the 'locale_name' column\n",
    "mode = merged_df['locale_name'].mode()[0]\n",
    "\n",
    "# Replace missing values in the 'locale_name' column with the mode\n",
    "merged_df['locale_name'].fillna(mode, inplace=True)"
   ]
  },
  {
   "cell_type": "code",
   "execution_count": 27,
   "id": "8b695108",
   "metadata": {},
   "outputs": [],
   "source": [
    "# Find the mode of the 'transferred' column\n",
    "mode = merged_df['transferred'].mode()[0]\n",
    "\n",
    "# Replace missing values in the 'locale_name' column with the mode\n",
    "merged_df['transferred'].fillna(mode, inplace=True)"
   ]
  },
  {
   "cell_type": "code",
   "execution_count": 28,
   "id": "9a5f2e12",
   "metadata": {},
   "outputs": [
    {
     "data": {
      "text/plain": [
       "date            0\n",
       "store_nbr       0\n",
       "family          0\n",
       "sales           0\n",
       "onpromotion     0\n",
       "day             0\n",
       "city            0\n",
       "state           0\n",
       "type_x          0\n",
       "cluster         0\n",
       "transactions    0\n",
       "dcoilwtico      0\n",
       "type_y          0\n",
       "locale          0\n",
       "locale_name     0\n",
       "description     0\n",
       "transferred     0\n",
       "dtype: int64"
      ]
     },
     "execution_count": 28,
     "metadata": {},
     "output_type": "execute_result"
    }
   ],
   "source": [
    "merged_df.isnull().sum()"
   ]
  },
  {
   "cell_type": "markdown",
   "id": "7ed2cfed",
   "metadata": {},
   "source": [
    "All missing values have been imputed "
   ]
  },
  {
   "cell_type": "code",
   "execution_count": 29,
   "id": "54b219d8",
   "metadata": {},
   "outputs": [
    {
     "data": {
      "text/html": [
       "<div>\n",
       "<style scoped>\n",
       "    .dataframe tbody tr th:only-of-type {\n",
       "        vertical-align: middle;\n",
       "    }\n",
       "\n",
       "    .dataframe tbody tr th {\n",
       "        vertical-align: top;\n",
       "    }\n",
       "\n",
       "    .dataframe thead th {\n",
       "        text-align: right;\n",
       "    }\n",
       "</style>\n",
       "<table border=\"1\" class=\"dataframe\">\n",
       "  <thead>\n",
       "    <tr style=\"text-align: right;\">\n",
       "      <th></th>\n",
       "      <th>date</th>\n",
       "      <th>store_nbr</th>\n",
       "      <th>family</th>\n",
       "      <th>sales</th>\n",
       "      <th>onpromotion</th>\n",
       "      <th>day</th>\n",
       "      <th>city</th>\n",
       "      <th>state</th>\n",
       "      <th>type_x</th>\n",
       "      <th>cluster</th>\n",
       "      <th>transactions</th>\n",
       "      <th>dcoilwtico</th>\n",
       "      <th>type_y</th>\n",
       "      <th>locale</th>\n",
       "      <th>locale_name</th>\n",
       "      <th>description</th>\n",
       "      <th>transferred</th>\n",
       "    </tr>\n",
       "  </thead>\n",
       "  <tbody>\n",
       "    <tr>\n",
       "      <th>0</th>\n",
       "      <td>2013-01-01</td>\n",
       "      <td>1</td>\n",
       "      <td>AUTOMOTIVE</td>\n",
       "      <td>0.0</td>\n",
       "      <td>0</td>\n",
       "      <td>2013-01-01</td>\n",
       "      <td>Quito</td>\n",
       "      <td>Pichincha</td>\n",
       "      <td>D</td>\n",
       "      <td>13</td>\n",
       "      <td>770.0</td>\n",
       "      <td>93.14</td>\n",
       "      <td>Holiday</td>\n",
       "      <td>National</td>\n",
       "      <td>Ecuador</td>\n",
       "      <td>Primer dia del ano</td>\n",
       "      <td>False</td>\n",
       "    </tr>\n",
       "    <tr>\n",
       "      <th>1</th>\n",
       "      <td>2013-01-01</td>\n",
       "      <td>1</td>\n",
       "      <td>BABY CARE</td>\n",
       "      <td>0.0</td>\n",
       "      <td>0</td>\n",
       "      <td>2013-01-01</td>\n",
       "      <td>Quito</td>\n",
       "      <td>Pichincha</td>\n",
       "      <td>D</td>\n",
       "      <td>13</td>\n",
       "      <td>770.0</td>\n",
       "      <td>93.14</td>\n",
       "      <td>Holiday</td>\n",
       "      <td>National</td>\n",
       "      <td>Ecuador</td>\n",
       "      <td>Primer dia del ano</td>\n",
       "      <td>False</td>\n",
       "    </tr>\n",
       "    <tr>\n",
       "      <th>2</th>\n",
       "      <td>2013-01-01</td>\n",
       "      <td>1</td>\n",
       "      <td>BEAUTY</td>\n",
       "      <td>0.0</td>\n",
       "      <td>0</td>\n",
       "      <td>2013-01-01</td>\n",
       "      <td>Quito</td>\n",
       "      <td>Pichincha</td>\n",
       "      <td>D</td>\n",
       "      <td>13</td>\n",
       "      <td>770.0</td>\n",
       "      <td>93.14</td>\n",
       "      <td>Holiday</td>\n",
       "      <td>National</td>\n",
       "      <td>Ecuador</td>\n",
       "      <td>Primer dia del ano</td>\n",
       "      <td>False</td>\n",
       "    </tr>\n",
       "    <tr>\n",
       "      <th>3</th>\n",
       "      <td>2013-01-01</td>\n",
       "      <td>1</td>\n",
       "      <td>BEVERAGES</td>\n",
       "      <td>0.0</td>\n",
       "      <td>0</td>\n",
       "      <td>2013-01-01</td>\n",
       "      <td>Quito</td>\n",
       "      <td>Pichincha</td>\n",
       "      <td>D</td>\n",
       "      <td>13</td>\n",
       "      <td>770.0</td>\n",
       "      <td>93.14</td>\n",
       "      <td>Holiday</td>\n",
       "      <td>National</td>\n",
       "      <td>Ecuador</td>\n",
       "      <td>Primer dia del ano</td>\n",
       "      <td>False</td>\n",
       "    </tr>\n",
       "    <tr>\n",
       "      <th>4</th>\n",
       "      <td>2013-01-01</td>\n",
       "      <td>1</td>\n",
       "      <td>BOOKS</td>\n",
       "      <td>0.0</td>\n",
       "      <td>0</td>\n",
       "      <td>2013-01-01</td>\n",
       "      <td>Quito</td>\n",
       "      <td>Pichincha</td>\n",
       "      <td>D</td>\n",
       "      <td>13</td>\n",
       "      <td>770.0</td>\n",
       "      <td>93.14</td>\n",
       "      <td>Holiday</td>\n",
       "      <td>National</td>\n",
       "      <td>Ecuador</td>\n",
       "      <td>Primer dia del ano</td>\n",
       "      <td>False</td>\n",
       "    </tr>\n",
       "  </tbody>\n",
       "</table>\n",
       "</div>"
      ],
      "text/plain": [
       "        date  store_nbr      family  sales  onpromotion         day   city  \\\n",
       "0 2013-01-01          1  AUTOMOTIVE    0.0            0  2013-01-01  Quito   \n",
       "1 2013-01-01          1   BABY CARE    0.0            0  2013-01-01  Quito   \n",
       "2 2013-01-01          1      BEAUTY    0.0            0  2013-01-01  Quito   \n",
       "3 2013-01-01          1   BEVERAGES    0.0            0  2013-01-01  Quito   \n",
       "4 2013-01-01          1       BOOKS    0.0            0  2013-01-01  Quito   \n",
       "\n",
       "       state type_x  cluster  transactions  dcoilwtico   type_y    locale  \\\n",
       "0  Pichincha      D       13         770.0       93.14  Holiday  National   \n",
       "1  Pichincha      D       13         770.0       93.14  Holiday  National   \n",
       "2  Pichincha      D       13         770.0       93.14  Holiday  National   \n",
       "3  Pichincha      D       13         770.0       93.14  Holiday  National   \n",
       "4  Pichincha      D       13         770.0       93.14  Holiday  National   \n",
       "\n",
       "  locale_name         description  transferred  \n",
       "0     Ecuador  Primer dia del ano        False  \n",
       "1     Ecuador  Primer dia del ano        False  \n",
       "2     Ecuador  Primer dia del ano        False  \n",
       "3     Ecuador  Primer dia del ano        False  \n",
       "4     Ecuador  Primer dia del ano        False  "
      ]
     },
     "execution_count": 29,
     "metadata": {},
     "output_type": "execute_result"
    }
   ],
   "source": [
    "# A look at our dataset again\n",
    "merged_df.head()"
   ]
  },
  {
   "cell_type": "code",
   "execution_count": null,
   "id": "7711a344",
   "metadata": {},
   "outputs": [],
   "source": []
  }
 ],
 "metadata": {
  "kernelspec": {
   "display_name": "Python 3 (ipykernel)",
   "language": "python",
   "name": "python3"
  },
  "language_info": {
   "codemirror_mode": {
    "name": "ipython",
    "version": 3
   },
   "file_extension": ".py",
   "mimetype": "text/x-python",
   "name": "python",
   "nbconvert_exporter": "python",
   "pygments_lexer": "ipython3",
   "version": "3.10.7"
  }
 },
 "nbformat": 4,
 "nbformat_minor": 5
}
